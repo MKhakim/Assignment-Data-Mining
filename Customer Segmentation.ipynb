{
 "cells": [
  {
   "cell_type": "code",
   "execution_count": 1,
   "metadata": {},
   "outputs": [],
   "source": [
    "import numpy as np\n",
    "import pandas as pd\n",
    "import seaborn as sns\n",
    "import matplotlib.pyplot as plt"
   ]
  },
  {
   "cell_type": "code",
   "execution_count": 2,
   "metadata": {},
   "outputs": [],
   "source": [
    "codes = pd.read_csv('codes.csv', ';')\n",
    "types = pd.read_csv('types.csv', ';')\n",
    "#test_set = pd.read_csv('test_set.csv', ';')\n",
    "train_set = pd.read_csv('train_set.csv', ';')\n",
    "tr = pd.read_csv('transactions.csv', ';')"
   ]
  },
  {
   "cell_type": "markdown",
   "metadata": {},
   "source": [
    "# 1. Explore datasets"
   ]
  },
  {
   "cell_type": "markdown",
   "metadata": {},
   "source": [
    "Firstly lets explore transactions dataset"
   ]
  },
  {
   "cell_type": "code",
   "execution_count": 3,
   "metadata": {
    "scrolled": true
   },
   "outputs": [
    {
     "name": "stdout",
     "output_type": "stream",
     "text": [
      "<class 'pandas.core.frame.DataFrame'>\n",
      "RangeIndex: 130039 entries, 0 to 130038\n",
      "Data columns (total 5 columns):\n",
      " #   Column     Non-Null Count   Dtype  \n",
      "---  ------     --------------   -----  \n",
      " 0   client_id  130039 non-null  int64  \n",
      " 1   datetime   130039 non-null  object \n",
      " 2   code       130039 non-null  int64  \n",
      " 3   type       130039 non-null  int64  \n",
      " 4   sum        130039 non-null  float64\n",
      "dtypes: float64(1), int64(3), object(1)\n",
      "memory usage: 5.0+ MB\n"
     ]
    },
    {
     "data": {
      "text/html": [
       "<div>\n",
       "<style scoped>\n",
       "    .dataframe tbody tr th:only-of-type {\n",
       "        vertical-align: middle;\n",
       "    }\n",
       "\n",
       "    .dataframe tbody tr th {\n",
       "        vertical-align: top;\n",
       "    }\n",
       "\n",
       "    .dataframe thead th {\n",
       "        text-align: right;\n",
       "    }\n",
       "</style>\n",
       "<table border=\"1\" class=\"dataframe\">\n",
       "  <thead>\n",
       "    <tr style=\"text-align: right;\">\n",
       "      <th></th>\n",
       "      <th>client_id</th>\n",
       "      <th>datetime</th>\n",
       "      <th>code</th>\n",
       "      <th>type</th>\n",
       "      <th>sum</th>\n",
       "    </tr>\n",
       "  </thead>\n",
       "  <tbody>\n",
       "    <tr>\n",
       "      <th>0</th>\n",
       "      <td>96372458</td>\n",
       "      <td>421 06:33:15</td>\n",
       "      <td>6011</td>\n",
       "      <td>2010</td>\n",
       "      <td>-561478.94</td>\n",
       "    </tr>\n",
       "    <tr>\n",
       "      <th>1</th>\n",
       "      <td>24567813</td>\n",
       "      <td>377 17:20:40</td>\n",
       "      <td>6011</td>\n",
       "      <td>7010</td>\n",
       "      <td>67377.47</td>\n",
       "    </tr>\n",
       "    <tr>\n",
       "      <th>2</th>\n",
       "      <td>21717441</td>\n",
       "      <td>55 13:38:47</td>\n",
       "      <td>6011</td>\n",
       "      <td>2010</td>\n",
       "      <td>-44918.32</td>\n",
       "    </tr>\n",
       "    <tr>\n",
       "      <th>3</th>\n",
       "      <td>14331004</td>\n",
       "      <td>263 12:57:08</td>\n",
       "      <td>6011</td>\n",
       "      <td>2010</td>\n",
       "      <td>-3368873.66</td>\n",
       "    </tr>\n",
       "    <tr>\n",
       "      <th>4</th>\n",
       "      <td>85302434</td>\n",
       "      <td>151 10:34:12</td>\n",
       "      <td>4814</td>\n",
       "      <td>1030</td>\n",
       "      <td>-3368.87</td>\n",
       "    </tr>\n",
       "  </tbody>\n",
       "</table>\n",
       "</div>"
      ],
      "text/plain": [
       "   client_id      datetime  code  type         sum\n",
       "0   96372458  421 06:33:15  6011  2010  -561478.94\n",
       "1   24567813  377 17:20:40  6011  7010    67377.47\n",
       "2   21717441   55 13:38:47  6011  2010   -44918.32\n",
       "3   14331004  263 12:57:08  6011  2010 -3368873.66\n",
       "4   85302434  151 10:34:12  4814  1030    -3368.87"
      ]
     },
     "execution_count": 3,
     "metadata": {},
     "output_type": "execute_result"
    }
   ],
   "source": [
    "tr.info()\n",
    "tr.head()"
   ]
  },
  {
   "cell_type": "code",
   "execution_count": 4,
   "metadata": {},
   "outputs": [
    {
     "data": {
      "text/plain": [
       "55"
      ]
     },
     "execution_count": 4,
     "metadata": {},
     "output_type": "execute_result"
    }
   ],
   "source": [
    "tr.duplicated(keep = False).sum()"
   ]
  },
  {
   "cell_type": "code",
   "execution_count": 5,
   "metadata": {},
   "outputs": [],
   "source": [
    "tr.drop_duplicates(keep = 'first', inplace = True)"
   ]
  },
  {
   "cell_type": "markdown",
   "metadata": {},
   "source": [
    "then codes dataset"
   ]
  },
  {
   "cell_type": "code",
   "execution_count": 6,
   "metadata": {
    "scrolled": true
   },
   "outputs": [
    {
     "name": "stdout",
     "output_type": "stream",
     "text": [
      "<class 'pandas.core.frame.DataFrame'>\n",
      "RangeIndex: 184 entries, 0 to 183\n",
      "Data columns (total 2 columns):\n",
      " #   Column            Non-Null Count  Dtype \n",
      "---  ------            --------------  ----- \n",
      " 0   code              184 non-null    int64 \n",
      " 1   code_description  184 non-null    object\n",
      "dtypes: int64(1), object(1)\n",
      "memory usage: 3.0+ KB\n"
     ]
    },
    {
     "data": {
      "text/html": [
       "<div>\n",
       "<style scoped>\n",
       "    .dataframe tbody tr th:only-of-type {\n",
       "        vertical-align: middle;\n",
       "    }\n",
       "\n",
       "    .dataframe tbody tr th {\n",
       "        vertical-align: top;\n",
       "    }\n",
       "\n",
       "    .dataframe thead th {\n",
       "        text-align: right;\n",
       "    }\n",
       "</style>\n",
       "<table border=\"1\" class=\"dataframe\">\n",
       "  <thead>\n",
       "    <tr style=\"text-align: right;\">\n",
       "      <th></th>\n",
       "      <th>code</th>\n",
       "      <th>code_description</th>\n",
       "    </tr>\n",
       "  </thead>\n",
       "  <tbody>\n",
       "    <tr>\n",
       "      <th>0</th>\n",
       "      <td>5944</td>\n",
       "      <td>Магазины по продаже часов, ювелирных изделий и...</td>\n",
       "    </tr>\n",
       "    <tr>\n",
       "      <th>1</th>\n",
       "      <td>5621</td>\n",
       "      <td>Готовые сумочные изделия</td>\n",
       "    </tr>\n",
       "    <tr>\n",
       "      <th>2</th>\n",
       "      <td>5697</td>\n",
       "      <td>Услуги по переделке, починке и пошиву одежды</td>\n",
       "    </tr>\n",
       "    <tr>\n",
       "      <th>3</th>\n",
       "      <td>7995</td>\n",
       "      <td>Транзакции по азартным играм</td>\n",
       "    </tr>\n",
       "    <tr>\n",
       "      <th>4</th>\n",
       "      <td>5137</td>\n",
       "      <td>Мужская, женская и детская спец-одежда</td>\n",
       "    </tr>\n",
       "  </tbody>\n",
       "</table>\n",
       "</div>"
      ],
      "text/plain": [
       "   code                                   code_description\n",
       "0  5944  Магазины по продаже часов, ювелирных изделий и...\n",
       "1  5621                           Готовые сумочные изделия\n",
       "2  5697       Услуги по переделке, починке и пошиву одежды\n",
       "3  7995                       Транзакции по азартным играм\n",
       "4  5137             Мужская, женская и детская спец-одежда"
      ]
     },
     "execution_count": 6,
     "metadata": {},
     "output_type": "execute_result"
    }
   ],
   "source": [
    "codes.info()\n",
    "codes.head()"
   ]
  },
  {
   "cell_type": "code",
   "execution_count": 7,
   "metadata": {},
   "outputs": [
    {
     "data": {
      "text/html": [
       "<div>\n",
       "<style scoped>\n",
       "    .dataframe tbody tr th:only-of-type {\n",
       "        vertical-align: middle;\n",
       "    }\n",
       "\n",
       "    .dataframe tbody tr th {\n",
       "        vertical-align: top;\n",
       "    }\n",
       "\n",
       "    .dataframe thead th {\n",
       "        text-align: right;\n",
       "    }\n",
       "</style>\n",
       "<table border=\"1\" class=\"dataframe\">\n",
       "  <thead>\n",
       "    <tr style=\"text-align: right;\">\n",
       "      <th></th>\n",
       "      <th>code</th>\n",
       "      <th>code_description</th>\n",
       "    </tr>\n",
       "  </thead>\n",
       "  <tbody>\n",
       "  </tbody>\n",
       "</table>\n",
       "</div>"
      ],
      "text/plain": [
       "Empty DataFrame\n",
       "Columns: [code, code_description]\n",
       "Index: []"
      ]
     },
     "execution_count": 7,
     "metadata": {},
     "output_type": "execute_result"
    }
   ],
   "source": [
    "codes[codes['code_description'].str.contains('н/д')]"
   ]
  },
  {
   "cell_type": "code",
   "execution_count": 8,
   "metadata": {},
   "outputs": [
    {
     "data": {
      "text/plain": [
       "0"
      ]
     },
     "execution_count": 8,
     "metadata": {},
     "output_type": "execute_result"
    }
   ],
   "source": [
    "codes.duplicated(keep = False).sum()"
   ]
  },
  {
   "cell_type": "markdown",
   "metadata": {},
   "source": [
    "As we can see, in codes dataset 0 nan values and 0 duplicated rows. So there is nothing to clean."
   ]
  },
  {
   "cell_type": "code",
   "execution_count": 9,
   "metadata": {},
   "outputs": [
    {
     "name": "stdout",
     "output_type": "stream",
     "text": [
      "<class 'pandas.core.frame.DataFrame'>\n",
      "RangeIndex: 155 entries, 0 to 154\n",
      "Data columns (total 2 columns):\n",
      " #   Column            Non-Null Count  Dtype \n",
      "---  ------            --------------  ----- \n",
      " 0   type              155 non-null    int64 \n",
      " 1   type_description  155 non-null    object\n",
      "dtypes: int64(1), object(1)\n",
      "memory usage: 2.5+ KB\n"
     ]
    },
    {
     "data": {
      "text/html": [
       "<div>\n",
       "<style scoped>\n",
       "    .dataframe tbody tr th:only-of-type {\n",
       "        vertical-align: middle;\n",
       "    }\n",
       "\n",
       "    .dataframe tbody tr th {\n",
       "        vertical-align: top;\n",
       "    }\n",
       "\n",
       "    .dataframe thead th {\n",
       "        text-align: right;\n",
       "    }\n",
       "</style>\n",
       "<table border=\"1\" class=\"dataframe\">\n",
       "  <thead>\n",
       "    <tr style=\"text-align: right;\">\n",
       "      <th></th>\n",
       "      <th>type</th>\n",
       "      <th>type_description</th>\n",
       "    </tr>\n",
       "  </thead>\n",
       "  <tbody>\n",
       "    <tr>\n",
       "      <th>0</th>\n",
       "      <td>8001</td>\n",
       "      <td>Установление расх. лимита по карте</td>\n",
       "    </tr>\n",
       "    <tr>\n",
       "      <th>1</th>\n",
       "      <td>2411</td>\n",
       "      <td>Перевод с карты на счет др.лица в одном тер. б...</td>\n",
       "    </tr>\n",
       "    <tr>\n",
       "      <th>2</th>\n",
       "      <td>4035</td>\n",
       "      <td>н/д(нет данных)</td>\n",
       "    </tr>\n",
       "    <tr>\n",
       "      <th>3</th>\n",
       "      <td>3001</td>\n",
       "      <td>Комиссия за обслуживание ссудного счета</td>\n",
       "    </tr>\n",
       "    <tr>\n",
       "      <th>4</th>\n",
       "      <td>2420</td>\n",
       "      <td>Перевод с карты на счет физ.лица в другом тер....</td>\n",
       "    </tr>\n",
       "  </tbody>\n",
       "</table>\n",
       "</div>"
      ],
      "text/plain": [
       "   type                                   type_description\n",
       "0  8001                 Установление расх. лимита по карте\n",
       "1  2411  Перевод с карты на счет др.лица в одном тер. б...\n",
       "2  4035                                    н/д(нет данных)\n",
       "3  3001            Комиссия за обслуживание ссудного счета\n",
       "4  2420  Перевод с карты на счет физ.лица в другом тер...."
      ]
     },
     "execution_count": 9,
     "metadata": {},
     "output_type": "execute_result"
    }
   ],
   "source": [
    "types.info()\n",
    "types.head()"
   ]
  },
  {
   "cell_type": "code",
   "execution_count": 10,
   "metadata": {},
   "outputs": [
    {
     "data": {
      "text/plain": [
       "14"
      ]
     },
     "execution_count": 10,
     "metadata": {},
     "output_type": "execute_result"
    }
   ],
   "source": [
    "len(types[types['type_description'].str.contains('н/д')])"
   ]
  },
  {
   "cell_type": "markdown",
   "metadata": {},
   "source": [
    "Now we now that there is 14 useless types, we will clean it in other part"
   ]
  },
  {
   "cell_type": "markdown",
   "metadata": {},
   "source": [
    "# 2. Descriptive Statistics"
   ]
  },
  {
   "cell_type": "code",
   "execution_count": 11,
   "metadata": {},
   "outputs": [
    {
     "data": {
      "image/png": "[encoded data removed]",
      "text/plain": [
       "<Figure size 792x432 with 1 Axes>"
      ]
     },
     "metadata": {
      "needs_background": "light"
     },
     "output_type": "display_data"
    }
   ],
   "source": [
    "def describe(df):\n",
    "    desc = df.describe().T\n",
    "    desc_df = pd.DataFrame(index= df.columns, \n",
    "                           columns= desc.columns,\n",
    "                           data=desc)\n",
    "    \n",
    "    fig, ax = plt.subplots(figsize=(11, desc_df.shape[0]*1.5))\n",
    "    sns.heatmap(desc_df,\n",
    "                annot=True,\n",
    "                cmap = \"YlGnBu\",\n",
    "                fmt= '.2f',\n",
    "                ax=ax,\n",
    "                cbar = False,)\n",
    "    plt.xticks(size = 14)\n",
    "    plt.yticks(size=14,rotation = 0)\n",
    "    plt.title(\"Descriptive Statistics\", size=14)\n",
    "    \n",
    "describe(tr[[col for col in tr.columns if tr[col].dtype != 'O']])"
   ]
  },
  {
   "cell_type": "markdown",
   "metadata": {},
   "source": [
    "If we will look at the 'max' for column 'sum'. we see that our 'mean' and even '75%' is negative number. So we can easily identify that here we have very big outliers."
   ]
  },
  {
   "cell_type": "markdown",
   "metadata": {},
   "source": [
    "# 3. Exploring the features, visualizations"
   ]
  },
  {
   "cell_type": "markdown",
   "metadata": {},
   "source": [
    "We started from merge 'code' and 'type' datasets into 'transactions'"
   ]
  },
  {
   "cell_type": "code",
   "execution_count": 12,
   "metadata": {},
   "outputs": [
    {
     "data": {
      "text/html": [
       "<div>\n",
       "<style scoped>\n",
       "    .dataframe tbody tr th:only-of-type {\n",
       "        vertical-align: middle;\n",
       "    }\n",
       "\n",
       "    .dataframe tbody tr th {\n",
       "        vertical-align: top;\n",
       "    }\n",
       "\n",
       "    .dataframe thead th {\n",
       "        text-align: right;\n",
       "    }\n",
       "</style>\n",
       "<table border=\"1\" class=\"dataframe\">\n",
       "  <thead>\n",
       "    <tr style=\"text-align: right;\">\n",
       "      <th></th>\n",
       "      <th>client_id</th>\n",
       "      <th>datetime</th>\n",
       "      <th>code</th>\n",
       "      <th>type</th>\n",
       "      <th>sum</th>\n",
       "      <th>code_description</th>\n",
       "      <th>type_description</th>\n",
       "    </tr>\n",
       "  </thead>\n",
       "  <tbody>\n",
       "    <tr>\n",
       "      <th>0</th>\n",
       "      <td>96372458</td>\n",
       "      <td>421 06:33:15</td>\n",
       "      <td>6011</td>\n",
       "      <td>2010</td>\n",
       "      <td>-561478.94</td>\n",
       "      <td>Финансовые институты — снятие наличности автом...</td>\n",
       "      <td>Выдача наличных в АТМ</td>\n",
       "    </tr>\n",
       "    <tr>\n",
       "      <th>1</th>\n",
       "      <td>24567813</td>\n",
       "      <td>377 17:20:40</td>\n",
       "      <td>6011</td>\n",
       "      <td>7010</td>\n",
       "      <td>67377.47</td>\n",
       "      <td>Финансовые институты — снятие наличности автом...</td>\n",
       "      <td>Взнос наличных через АТМ (в своем тер.банке)</td>\n",
       "    </tr>\n",
       "    <tr>\n",
       "      <th>2</th>\n",
       "      <td>21717441</td>\n",
       "      <td>55 13:38:47</td>\n",
       "      <td>6011</td>\n",
       "      <td>2010</td>\n",
       "      <td>-44918.32</td>\n",
       "      <td>Финансовые институты — снятие наличности автом...</td>\n",
       "      <td>Выдача наличных в АТМ</td>\n",
       "    </tr>\n",
       "    <tr>\n",
       "      <th>3</th>\n",
       "      <td>14331004</td>\n",
       "      <td>263 12:57:08</td>\n",
       "      <td>6011</td>\n",
       "      <td>2010</td>\n",
       "      <td>-3368873.66</td>\n",
       "      <td>Финансовые институты — снятие наличности автом...</td>\n",
       "      <td>Выдача наличных в АТМ</td>\n",
       "    </tr>\n",
       "    <tr>\n",
       "      <th>4</th>\n",
       "      <td>85302434</td>\n",
       "      <td>151 10:34:12</td>\n",
       "      <td>4814</td>\n",
       "      <td>1030</td>\n",
       "      <td>-3368.87</td>\n",
       "      <td>Звонки с использованием телефонов, считывающих...</td>\n",
       "      <td>Оплата услуги. Банкоматы</td>\n",
       "    </tr>\n",
       "  </tbody>\n",
       "</table>\n",
       "</div>"
      ],
      "text/plain": [
       "   client_id      datetime  code  type         sum  \\\n",
       "0   96372458  421 06:33:15  6011  2010  -561478.94   \n",
       "1   24567813  377 17:20:40  6011  7010    67377.47   \n",
       "2   21717441   55 13:38:47  6011  2010   -44918.32   \n",
       "3   14331004  263 12:57:08  6011  2010 -3368873.66   \n",
       "4   85302434  151 10:34:12  4814  1030    -3368.87   \n",
       "\n",
       "                                    code_description  \\\n",
       "0  Финансовые институты — снятие наличности автом...   \n",
       "1  Финансовые институты — снятие наличности автом...   \n",
       "2  Финансовые институты — снятие наличности автом...   \n",
       "3  Финансовые институты — снятие наличности автом...   \n",
       "4  Звонки с использованием телефонов, считывающих...   \n",
       "\n",
       "                               type_description  \n",
       "0                         Выдача наличных в АТМ  \n",
       "1  Взнос наличных через АТМ (в своем тер.банке)  \n",
       "2                         Выдача наличных в АТМ  \n",
       "3                         Выдача наличных в АТМ  \n",
       "4                      Оплата услуги. Банкоматы  "
      ]
     },
     "execution_count": 12,
     "metadata": {},
     "output_type": "execute_result"
    }
   ],
   "source": [
    "df = tr.merge(codes, 'left', 'code').merge(types, 'left', 'type')\n",
    "df.head()"
   ]
  },
  {
   "cell_type": "markdown",
   "metadata": {},
   "source": [
    "Then started to vizualize, but we showed only top 5, because here is a lots of value. And it will be difficult to show them all."
   ]
  },
  {
   "cell_type": "code",
   "execution_count": 13,
   "metadata": {
    "scrolled": true
   },
   "outputs": [],
   "source": [
    "top_5 = df['code_description'].value_counts().head()"
   ]
  },
  {
   "cell_type": "code",
   "execution_count": 14,
   "metadata": {},
   "outputs": [
    {
     "data": {
      "text/plain": [
       "Text(0.5, 0, 'Count')"
      ]
     },
     "execution_count": 14,
     "metadata": {},
     "output_type": "execute_result"
    },
    {
     "data": {
      "image/png": "[encoded data removed]",
      "text/plain": [
       "<Figure size 432x288 with 1 Axes>"
      ]
     },
     "metadata": {
      "needs_background": "light"
     },
     "output_type": "display_data"
    }
   ],
   "source": [
    "fig, ax = plt.subplots()\n",
    "\n",
    "ax.barh(top_5.index, top_5)\n",
    "\n",
    "plt.title('Top 5 codes', fontsize=15)\n",
    "plt.ylabel('Code Description', fontsize=15)\n",
    "plt.xlabel('Count', fontsize=15)"
   ]
  },
  {
   "cell_type": "code",
   "execution_count": 15,
   "metadata": {},
   "outputs": [],
   "source": [
    "top_5 = df['type_description'].value_counts().head()"
   ]
  },
  {
   "cell_type": "code",
   "execution_count": 16,
   "metadata": {},
   "outputs": [
    {
     "data": {
      "text/plain": [
       "Text(0.5, 0, 'Count')"
      ]
     },
     "execution_count": 16,
     "metadata": {},
     "output_type": "execute_result"
    },
    {
     "data": {
      "image/png": "[encoded data removed]",
      "text/plain": [
       "<Figure size 432x288 with 1 Axes>"
      ]
     },
     "metadata": {
      "needs_background": "light"
     },
     "output_type": "display_data"
    }
   ],
   "source": [
    "fig, ax = plt.subplots()\n",
    "\n",
    "ax.barh(top_5.index, top_5)\n",
    "\n",
    "plt.title('Top 5 types', fontsize=15)\n",
    "plt.ylabel('Type Description', fontsize=15)\n",
    "plt.xlabel('Count', fontsize=15)"
   ]
  },
  {
   "cell_type": "code",
   "execution_count": 17,
   "metadata": {},
   "outputs": [
    {
     "data": {
      "text/plain": [
       "{'whiskers': [<matplotlib.lines.Line2D at 0x26eb964dc10>,\n",
       "  <matplotlib.lines.Line2D at 0x26eb964df70>],\n",
       " 'caps': [<matplotlib.lines.Line2D at 0x26eb965e310>,\n",
       "  <matplotlib.lines.Line2D at 0x26eb965e670>],\n",
       " 'boxes': [<matplotlib.lines.Line2D at 0x26eb964d8b0>],\n",
       " 'medians': [<matplotlib.lines.Line2D at 0x26eb965e9d0>],\n",
       " 'fliers': [],\n",
       " 'means': []}"
      ]
     },
     "execution_count": 17,
     "metadata": {},
     "output_type": "execute_result"
    },
    {
     "data": {
      "image/png": "[encoded data removed]",
      "text/plain": [
       "<Figure size 432x288 with 1 Axes>"
      ]
     },
     "metadata": {
      "needs_background": "light"
     },
     "output_type": "display_data"
    }
   ],
   "source": [
    "fig, ax = plt.subplots()\n",
    "ax.boxplot(df['sum'], showfliers=False)"
   ]
  },
  {
   "cell_type": "code",
   "execution_count": 18,
   "metadata": {},
   "outputs": [
    {
     "data": {
      "text/plain": [
       "(16942, 10988)"
      ]
     },
     "execution_count": 18,
     "metadata": {},
     "output_type": "execute_result"
    }
   ],
   "source": [
    "tr[tr['sum'] < -60000].shape[0], tr[tr['sum'] > 30000].shape[0]"
   ]
  },
  {
   "cell_type": "markdown",
   "metadata": {},
   "source": [
    "Using boxplot we can see that ~15% of data is low value outliers and ~10% of data is high value outliers."
   ]
  },
  {
   "cell_type": "markdown",
   "metadata": {},
   "source": [
    "# 4. Feature engineering"
   ]
  },
  {
   "cell_type": "markdown",
   "metadata": {},
   "source": [
    "For the feature engineering part we decided to use RFM method. It is a customer segmentation technique that uses past transaction behavior to divide customers into groups.\n",
    "\n",
    "RFM has 3 dimensions:\n",
    "\n",
    "1. Recency - How recently did the customer complete a transaction?\n",
    "2. Frequency - How often do they complete transactions?\n",
    "3. Monetary Value - How much do they spend/receive?"
   ]
  },
  {
   "cell_type": "code",
   "execution_count": 19,
   "metadata": {},
   "outputs": [
    {
     "data": {
      "text/html": [
       "<div>\n",
       "<style scoped>\n",
       "    .dataframe tbody tr th:only-of-type {\n",
       "        vertical-align: middle;\n",
       "    }\n",
       "\n",
       "    .dataframe tbody tr th {\n",
       "        vertical-align: top;\n",
       "    }\n",
       "\n",
       "    .dataframe thead th {\n",
       "        text-align: right;\n",
       "    }\n",
       "</style>\n",
       "<table border=\"1\" class=\"dataframe\">\n",
       "  <thead>\n",
       "    <tr style=\"text-align: right;\">\n",
       "      <th></th>\n",
       "      <th>client_id</th>\n",
       "    </tr>\n",
       "  </thead>\n",
       "  <tbody>\n",
       "    <tr>\n",
       "      <th>0</th>\n",
       "      <td>96372458</td>\n",
       "    </tr>\n",
       "    <tr>\n",
       "      <th>1</th>\n",
       "      <td>24567813</td>\n",
       "    </tr>\n",
       "    <tr>\n",
       "      <th>2</th>\n",
       "      <td>21717441</td>\n",
       "    </tr>\n",
       "    <tr>\n",
       "      <th>3</th>\n",
       "      <td>14331004</td>\n",
       "    </tr>\n",
       "    <tr>\n",
       "      <th>4</th>\n",
       "      <td>85302434</td>\n",
       "    </tr>\n",
       "  </tbody>\n",
       "</table>\n",
       "</div>"
      ],
      "text/plain": [
       "   client_id\n",
       "0   96372458\n",
       "1   24567813\n",
       "2   21717441\n",
       "3   14331004\n",
       "4   85302434"
      ]
     },
     "execution_count": 19,
     "metadata": {},
     "output_type": "execute_result"
    }
   ],
   "source": [
    "clients_list = list(tr.client_id.unique())\n",
    "client = pd.DataFrame(clients_list, columns=['client_id'])\n",
    "client.head()"
   ]
  },
  {
   "cell_type": "markdown",
   "metadata": {},
   "source": [
    "take days to calculate dimensions of RFM method "
   ]
  },
  {
   "cell_type": "code",
   "execution_count": 20,
   "metadata": {},
   "outputs": [],
   "source": [
    "tr['day'] = tr.datetime.apply(lambda x: pd.Series(str(x).split(\" \")))[0]"
   ]
  },
  {
   "cell_type": "code",
   "execution_count": 21,
   "metadata": {},
   "outputs": [],
   "source": [
    "tr['time'] = tr.datetime.apply(lambda x: pd.Series(str(x).split(\" \")))[1]"
   ]
  },
  {
   "cell_type": "code",
   "execution_count": 22,
   "metadata": {},
   "outputs": [],
   "source": [
    "tr.day = tr.day.apply(lambda x: int(x))"
   ]
  },
  {
   "cell_type": "markdown",
   "metadata": {},
   "source": [
    "to calculate 'recency' we need current day (equals to 456). Then we will substract latest transaction for each client from current day. "
   ]
  },
  {
   "cell_type": "code",
   "execution_count": 23,
   "metadata": {},
   "outputs": [
    {
     "data": {
      "text/plain": [
       "456"
      ]
     },
     "execution_count": 23,
     "metadata": {},
     "output_type": "execute_result"
    }
   ],
   "source": [
    "current_day = max(tr.day)\n",
    "current_day"
   ]
  },
  {
   "cell_type": "code",
   "execution_count": 24,
   "metadata": {},
   "outputs": [
    {
     "data": {
      "text/html": [
       "<div>\n",
       "<style scoped>\n",
       "    .dataframe tbody tr th:only-of-type {\n",
       "        vertical-align: middle;\n",
       "    }\n",
       "\n",
       "    .dataframe tbody tr th {\n",
       "        vertical-align: top;\n",
       "    }\n",
       "\n",
       "    .dataframe thead th {\n",
       "        text-align: right;\n",
       "    }\n",
       "</style>\n",
       "<table border=\"1\" class=\"dataframe\">\n",
       "  <thead>\n",
       "    <tr style=\"text-align: right;\">\n",
       "      <th></th>\n",
       "      <th>client_id</th>\n",
       "      <th>recency</th>\n",
       "    </tr>\n",
       "  </thead>\n",
       "  <tbody>\n",
       "    <tr>\n",
       "      <th>0</th>\n",
       "      <td>96372458</td>\n",
       "      <td>8</td>\n",
       "    </tr>\n",
       "    <tr>\n",
       "      <th>1</th>\n",
       "      <td>24567813</td>\n",
       "      <td>57</td>\n",
       "    </tr>\n",
       "    <tr>\n",
       "      <th>2</th>\n",
       "      <td>21717441</td>\n",
       "      <td>8</td>\n",
       "    </tr>\n",
       "    <tr>\n",
       "      <th>3</th>\n",
       "      <td>14331004</td>\n",
       "      <td>5</td>\n",
       "    </tr>\n",
       "    <tr>\n",
       "      <th>4</th>\n",
       "      <td>85302434</td>\n",
       "      <td>40</td>\n",
       "    </tr>\n",
       "    <tr>\n",
       "      <th>...</th>\n",
       "      <td>...</td>\n",
       "      <td>...</td>\n",
       "    </tr>\n",
       "    <tr>\n",
       "      <th>8651</th>\n",
       "      <td>91616522</td>\n",
       "      <td>5</td>\n",
       "    </tr>\n",
       "    <tr>\n",
       "      <th>8652</th>\n",
       "      <td>91248192</td>\n",
       "      <td>426</td>\n",
       "    </tr>\n",
       "    <tr>\n",
       "      <th>8653</th>\n",
       "      <td>44107368</td>\n",
       "      <td>11</td>\n",
       "    </tr>\n",
       "    <tr>\n",
       "      <th>8654</th>\n",
       "      <td>54180380</td>\n",
       "      <td>373</td>\n",
       "    </tr>\n",
       "    <tr>\n",
       "      <th>8655</th>\n",
       "      <td>12610287</td>\n",
       "      <td>291</td>\n",
       "    </tr>\n",
       "  </tbody>\n",
       "</table>\n",
       "<p>8656 rows × 2 columns</p>\n",
       "</div>"
      ],
      "text/plain": [
       "      client_id  recency\n",
       "0      96372458        8\n",
       "1      24567813       57\n",
       "2      21717441        8\n",
       "3      14331004        5\n",
       "4      85302434       40\n",
       "...         ...      ...\n",
       "8651   91616522        5\n",
       "8652   91248192      426\n",
       "8653   44107368       11\n",
       "8654   54180380      373\n",
       "8655   12610287      291\n",
       "\n",
       "[8656 rows x 2 columns]"
      ]
     },
     "execution_count": 24,
     "metadata": {},
     "output_type": "execute_result"
    }
   ],
   "source": [
    "current_day = max(tr.day)\n",
    "last_tr = tr.groupby('client_id')['day'].max()\n",
    "last_tr = last_tr.reset_index()\n",
    "days = pd.merge(client, last_tr)\n",
    "days['recency'] = current_day - days.day\n",
    "client['recency'] = days['recency']\n",
    "client"
   ]
  },
  {
   "cell_type": "markdown",
   "metadata": {},
   "source": [
    "for frequency we just countnumber of transactions for each person."
   ]
  },
  {
   "cell_type": "code",
   "execution_count": 25,
   "metadata": {},
   "outputs": [
    {
     "data": {
      "text/html": [
       "<div>\n",
       "<style scoped>\n",
       "    .dataframe tbody tr th:only-of-type {\n",
       "        vertical-align: middle;\n",
       "    }\n",
       "\n",
       "    .dataframe tbody tr th {\n",
       "        vertical-align: top;\n",
       "    }\n",
       "\n",
       "    .dataframe thead th {\n",
       "        text-align: right;\n",
       "    }\n",
       "</style>\n",
       "<table border=\"1\" class=\"dataframe\">\n",
       "  <thead>\n",
       "    <tr style=\"text-align: right;\">\n",
       "      <th></th>\n",
       "      <th>client_id</th>\n",
       "      <th>recency</th>\n",
       "      <th>frequency</th>\n",
       "    </tr>\n",
       "  </thead>\n",
       "  <tbody>\n",
       "    <tr>\n",
       "      <th>0</th>\n",
       "      <td>96372458</td>\n",
       "      <td>8</td>\n",
       "      <td>13</td>\n",
       "    </tr>\n",
       "    <tr>\n",
       "      <th>1</th>\n",
       "      <td>24567813</td>\n",
       "      <td>57</td>\n",
       "      <td>14</td>\n",
       "    </tr>\n",
       "    <tr>\n",
       "      <th>2</th>\n",
       "      <td>21717441</td>\n",
       "      <td>8</td>\n",
       "      <td>15</td>\n",
       "    </tr>\n",
       "    <tr>\n",
       "      <th>3</th>\n",
       "      <td>14331004</td>\n",
       "      <td>5</td>\n",
       "      <td>23</td>\n",
       "    </tr>\n",
       "    <tr>\n",
       "      <th>4</th>\n",
       "      <td>85302434</td>\n",
       "      <td>40</td>\n",
       "      <td>8</td>\n",
       "    </tr>\n",
       "  </tbody>\n",
       "</table>\n",
       "</div>"
      ],
      "text/plain": [
       "   client_id  recency  frequency\n",
       "0   96372458        8         13\n",
       "1   24567813       57         14\n",
       "2   21717441        8         15\n",
       "3   14331004        5         23\n",
       "4   85302434       40          8"
      ]
     },
     "execution_count": 25,
     "metadata": {},
     "output_type": "execute_result"
    }
   ],
   "source": [
    "freq = pd.DataFrame(tr.groupby('client_id')['datetime'].count()).reset_index()\n",
    "frequency = pd.merge(client, freq)\n",
    "client['frequency'] = frequency['datetime']\n",
    "client.head()"
   ]
  },
  {
   "cell_type": "markdown",
   "metadata": {},
   "source": [
    "for monetary value we just find sum of all transaction for each client"
   ]
  },
  {
   "cell_type": "code",
   "execution_count": 26,
   "metadata": {},
   "outputs": [
    {
     "data": {
      "text/html": [
       "<div>\n",
       "<style scoped>\n",
       "    .dataframe tbody tr th:only-of-type {\n",
       "        vertical-align: middle;\n",
       "    }\n",
       "\n",
       "    .dataframe tbody tr th {\n",
       "        vertical-align: top;\n",
       "    }\n",
       "\n",
       "    .dataframe thead th {\n",
       "        text-align: right;\n",
       "    }\n",
       "</style>\n",
       "<table border=\"1\" class=\"dataframe\">\n",
       "  <thead>\n",
       "    <tr style=\"text-align: right;\">\n",
       "      <th></th>\n",
       "      <th>client_id</th>\n",
       "      <th>recency</th>\n",
       "      <th>frequency</th>\n",
       "      <th>monetary_value</th>\n",
       "    </tr>\n",
       "  </thead>\n",
       "  <tbody>\n",
       "    <tr>\n",
       "      <th>0</th>\n",
       "      <td>96372458</td>\n",
       "      <td>8</td>\n",
       "      <td>13</td>\n",
       "      <td>1102812.03</td>\n",
       "    </tr>\n",
       "    <tr>\n",
       "      <th>1</th>\n",
       "      <td>24567813</td>\n",
       "      <td>57</td>\n",
       "      <td>14</td>\n",
       "      <td>488237.85</td>\n",
       "    </tr>\n",
       "    <tr>\n",
       "      <th>2</th>\n",
       "      <td>21717441</td>\n",
       "      <td>8</td>\n",
       "      <td>15</td>\n",
       "      <td>3135792.54</td>\n",
       "    </tr>\n",
       "    <tr>\n",
       "      <th>3</th>\n",
       "      <td>14331004</td>\n",
       "      <td>5</td>\n",
       "      <td>23</td>\n",
       "      <td>5893527.32</td>\n",
       "    </tr>\n",
       "    <tr>\n",
       "      <th>4</th>\n",
       "      <td>85302434</td>\n",
       "      <td>40</td>\n",
       "      <td>8</td>\n",
       "      <td>101501.02</td>\n",
       "    </tr>\n",
       "  </tbody>\n",
       "</table>\n",
       "</div>"
      ],
      "text/plain": [
       "   client_id  recency  frequency  monetary_value\n",
       "0   96372458        8         13      1102812.03\n",
       "1   24567813       57         14       488237.85\n",
       "2   21717441        8         15      3135792.54\n",
       "3   14331004        5         23      5893527.32\n",
       "4   85302434       40          8       101501.02"
      ]
     },
     "execution_count": 26,
     "metadata": {},
     "output_type": "execute_result"
    }
   ],
   "source": [
    "monetary = pd.DataFrame(tr.groupby('client_id')['sum'].sum()).reset_index()\n",
    "monetary_values = pd.merge(client, monetary)\n",
    "client['monetary_value'] = monetary_values['sum'].abs()\n",
    "client.head()"
   ]
  },
  {
   "cell_type": "markdown",
   "metadata": {},
   "source": [
    "Now we have three defined features that we will use to classify clients into clusters based on their indicators. \n",
    "\n",
    "These features hold the following meaning:\n",
    "1. The smallest recency indicates the best clients since the newest transactions are better and it implies that the client is probably still using the services. The biggest recency(the oldest transactions) is the worst option indicating a possible loss of a customer.\n",
    "2. The highest frequency demonstrates the best clients who complete transactions regularly. The lowest frequency shows the most inactive customers or people who have completed a couple of random transactions. The latter may also be considered as a lost customer not holding much value in a dataset.\n",
    "3. The biggest absolute values from monetary_values column indicate the best clients with high financial value in a dataset(the transactions may be positive or negative numbers, that's why we use their absolute values). The smallest monetary values imply the smallest significance of clients generally in a dataset"
   ]
  },
  {
   "cell_type": "code",
   "execution_count": 27,
   "metadata": {},
   "outputs": [
    {
     "name": "stdout",
     "output_type": "stream",
     "text": [
      "     type type_description\n",
      "2    4035  н/д(нет данных)\n",
      "15   2440              н/д\n",
      "16   2360              н/д\n",
      "19   1310              н/д\n",
      "39   4600              н/д\n",
      "54   4090              н/д\n",
      "60   3810              н/д\n",
      "63   4045              н/д\n",
      "68   7084              н/д\n",
      "84   1410              н/д\n",
      "97   1510              н/д\n",
      "102  8146              н/д\n",
      "104  2325              н/д\n",
      "135  3300              н/д\n"
     ]
    }
   ],
   "source": [
    "print(types[types['type_description'].str.contains('н/д')])\n",
    "nan_types = types[types['type_description'].str.contains('н/д')]"
   ]
  },
  {
   "cell_type": "code",
   "execution_count": 28,
   "metadata": {},
   "outputs": [],
   "source": [
    "types.drop(types[types['type_description'].str.contains('н/д')].index, inplace=True)"
   ]
  },
  {
   "cell_type": "markdown",
   "metadata": {},
   "source": [
    "# 5. Unsupervised learning"
   ]
  },
  {
   "cell_type": "markdown",
   "metadata": {},
   "source": [
    "## K-means"
   ]
  },
  {
   "cell_type": "markdown",
   "metadata": {},
   "source": [
    "Now we will classify clients by RFM values using K-means algorithm"
   ]
  },
  {
   "cell_type": "code",
   "execution_count": 29,
   "metadata": {},
   "outputs": [],
   "source": [
    "from scipy import stats\n",
    "from sklearn.preprocessing import StandardScaler\n",
    "from sklearn.cluster import KMeans\n",
    "import warnings\n",
    "warnings.filterwarnings(\"ignore\")"
   ]
  },
  {
   "cell_type": "code",
   "execution_count": 30,
   "metadata": {},
   "outputs": [],
   "source": [
    "client.set_index('client_id')\n",
    "quantiles = client.quantile([0.25,0.5,0.75])\n",
    "quantiles = quantiles.to_dict()"
   ]
  },
  {
   "cell_type": "code",
   "execution_count": 31,
   "metadata": {},
   "outputs": [],
   "source": [
    "def RScore(x,p,d): # Recency\n",
    "    if x <= d[p][0.25]:\n",
    "        return 1\n",
    "    elif x <= d[p][0.50]:\n",
    "        return 2\n",
    "    elif x <= d[p][0.75]: \n",
    "        return 3\n",
    "    else:\n",
    "        return 4\n",
    "    \n",
    "def FMScore(x,p,d): #Frequency and Monetary value\n",
    "    if x <= d[p][0.25]:\n",
    "        return 4\n",
    "    elif x <= d[p][0.50]:\n",
    "        return 3\n",
    "    elif x <= d[p][0.75]: \n",
    "        return 2\n",
    "    else:\n",
    "        return 1"
   ]
  },
  {
   "cell_type": "code",
   "execution_count": 32,
   "metadata": {},
   "outputs": [
    {
     "data": {
      "text/html": [
       "<div>\n",
       "<style scoped>\n",
       "    .dataframe tbody tr th:only-of-type {\n",
       "        vertical-align: middle;\n",
       "    }\n",
       "\n",
       "    .dataframe tbody tr th {\n",
       "        vertical-align: top;\n",
       "    }\n",
       "\n",
       "    .dataframe thead th {\n",
       "        text-align: right;\n",
       "    }\n",
       "</style>\n",
       "<table border=\"1\" class=\"dataframe\">\n",
       "  <thead>\n",
       "    <tr style=\"text-align: right;\">\n",
       "      <th></th>\n",
       "      <th>client_id</th>\n",
       "      <th>recency</th>\n",
       "      <th>frequency</th>\n",
       "      <th>monetary_value</th>\n",
       "      <th>r_quartile</th>\n",
       "      <th>f_quartile</th>\n",
       "      <th>m_quartile</th>\n",
       "    </tr>\n",
       "  </thead>\n",
       "  <tbody>\n",
       "    <tr>\n",
       "      <th>0</th>\n",
       "      <td>96372458</td>\n",
       "      <td>8</td>\n",
       "      <td>13</td>\n",
       "      <td>1102812.03</td>\n",
       "      <td>1</td>\n",
       "      <td>2</td>\n",
       "      <td>1</td>\n",
       "    </tr>\n",
       "    <tr>\n",
       "      <th>1</th>\n",
       "      <td>24567813</td>\n",
       "      <td>57</td>\n",
       "      <td>14</td>\n",
       "      <td>488237.85</td>\n",
       "      <td>3</td>\n",
       "      <td>2</td>\n",
       "      <td>2</td>\n",
       "    </tr>\n",
       "    <tr>\n",
       "      <th>2</th>\n",
       "      <td>21717441</td>\n",
       "      <td>8</td>\n",
       "      <td>15</td>\n",
       "      <td>3135792.54</td>\n",
       "      <td>1</td>\n",
       "      <td>2</td>\n",
       "      <td>1</td>\n",
       "    </tr>\n",
       "    <tr>\n",
       "      <th>3</th>\n",
       "      <td>14331004</td>\n",
       "      <td>5</td>\n",
       "      <td>23</td>\n",
       "      <td>5893527.32</td>\n",
       "      <td>1</td>\n",
       "      <td>1</td>\n",
       "      <td>1</td>\n",
       "    </tr>\n",
       "    <tr>\n",
       "      <th>4</th>\n",
       "      <td>85302434</td>\n",
       "      <td>40</td>\n",
       "      <td>8</td>\n",
       "      <td>101501.02</td>\n",
       "      <td>3</td>\n",
       "      <td>3</td>\n",
       "      <td>3</td>\n",
       "    </tr>\n",
       "  </tbody>\n",
       "</table>\n",
       "</div>"
      ],
      "text/plain": [
       "   client_id  recency  frequency  monetary_value  r_quartile  f_quartile  \\\n",
       "0   96372458        8         13      1102812.03           1           2   \n",
       "1   24567813       57         14       488237.85           3           2   \n",
       "2   21717441        8         15      3135792.54           1           2   \n",
       "3   14331004        5         23      5893527.32           1           1   \n",
       "4   85302434       40          8       101501.02           3           3   \n",
       "\n",
       "   m_quartile  \n",
       "0           1  \n",
       "1           2  \n",
       "2           1  \n",
       "3           1  \n",
       "4           3  "
      ]
     },
     "execution_count": 32,
     "metadata": {},
     "output_type": "execute_result"
    }
   ],
   "source": [
    "client['r_quartile'] = client['recency'].apply(RScore, args=('recency',quantiles,))\n",
    "client['f_quartile'] = client['frequency'].apply(FMScore, args=('frequency',quantiles,))\n",
    "client['m_quartile'] = client['monetary_value'].apply(FMScore, args=('monetary_value',quantiles,))\n",
    "client.head()"
   ]
  },
  {
   "cell_type": "code",
   "execution_count": 33,
   "metadata": {},
   "outputs": [
    {
     "data": {
      "text/html": [
       "<div>\n",
       "<style scoped>\n",
       "    .dataframe tbody tr th:only-of-type {\n",
       "        vertical-align: middle;\n",
       "    }\n",
       "\n",
       "    .dataframe tbody tr th {\n",
       "        vertical-align: top;\n",
       "    }\n",
       "\n",
       "    .dataframe thead th {\n",
       "        text-align: right;\n",
       "    }\n",
       "</style>\n",
       "<table border=\"1\" class=\"dataframe\">\n",
       "  <thead>\n",
       "    <tr style=\"text-align: right;\">\n",
       "      <th></th>\n",
       "      <th>client_id</th>\n",
       "      <th>recency</th>\n",
       "      <th>frequency</th>\n",
       "      <th>monetary_value</th>\n",
       "      <th>r_quartile</th>\n",
       "      <th>f_quartile</th>\n",
       "      <th>m_quartile</th>\n",
       "      <th>RFMScore</th>\n",
       "    </tr>\n",
       "  </thead>\n",
       "  <tbody>\n",
       "    <tr>\n",
       "      <th>0</th>\n",
       "      <td>96372458</td>\n",
       "      <td>8</td>\n",
       "      <td>13</td>\n",
       "      <td>1102812.03</td>\n",
       "      <td>1</td>\n",
       "      <td>2</td>\n",
       "      <td>1</td>\n",
       "      <td>121</td>\n",
       "    </tr>\n",
       "    <tr>\n",
       "      <th>1</th>\n",
       "      <td>24567813</td>\n",
       "      <td>57</td>\n",
       "      <td>14</td>\n",
       "      <td>488237.85</td>\n",
       "      <td>3</td>\n",
       "      <td>2</td>\n",
       "      <td>2</td>\n",
       "      <td>322</td>\n",
       "    </tr>\n",
       "    <tr>\n",
       "      <th>2</th>\n",
       "      <td>21717441</td>\n",
       "      <td>8</td>\n",
       "      <td>15</td>\n",
       "      <td>3135792.54</td>\n",
       "      <td>1</td>\n",
       "      <td>2</td>\n",
       "      <td>1</td>\n",
       "      <td>121</td>\n",
       "    </tr>\n",
       "    <tr>\n",
       "      <th>3</th>\n",
       "      <td>14331004</td>\n",
       "      <td>5</td>\n",
       "      <td>23</td>\n",
       "      <td>5893527.32</td>\n",
       "      <td>1</td>\n",
       "      <td>1</td>\n",
       "      <td>1</td>\n",
       "      <td>111</td>\n",
       "    </tr>\n",
       "    <tr>\n",
       "      <th>4</th>\n",
       "      <td>85302434</td>\n",
       "      <td>40</td>\n",
       "      <td>8</td>\n",
       "      <td>101501.02</td>\n",
       "      <td>3</td>\n",
       "      <td>3</td>\n",
       "      <td>3</td>\n",
       "      <td>333</td>\n",
       "    </tr>\n",
       "  </tbody>\n",
       "</table>\n",
       "</div>"
      ],
      "text/plain": [
       "   client_id  recency  frequency  monetary_value  r_quartile  f_quartile  \\\n",
       "0   96372458        8         13      1102812.03           1           2   \n",
       "1   24567813       57         14       488237.85           3           2   \n",
       "2   21717441        8         15      3135792.54           1           2   \n",
       "3   14331004        5         23      5893527.32           1           1   \n",
       "4   85302434       40          8       101501.02           3           3   \n",
       "\n",
       "   m_quartile RFMScore  \n",
       "0           1      121  \n",
       "1           2      322  \n",
       "2           1      121  \n",
       "3           1      111  \n",
       "4           3      333  "
      ]
     },
     "execution_count": 33,
     "metadata": {},
     "output_type": "execute_result"
    }
   ],
   "source": [
    "client['RFMScore'] = client.r_quartile.map(str) + client.f_quartile.map(str) + client.m_quartile.map(str)\n",
    "client.head()"
   ]
  },
  {
   "cell_type": "code",
   "execution_count": 34,
   "metadata": {},
   "outputs": [
    {
     "name": "stdout",
     "output_type": "stream",
     "text": [
      "Best Customers : 489\n",
      "Loyal Customers : 2027\n",
      "Big Spenders : 2164\n",
      "Almost Lost : 120\n",
      "Lost Customers : 247\n",
      "Lost Cheap Customers : 640\n"
     ]
    }
   ],
   "source": [
    "print('Best Customers :', len(client[client.RFMScore == '111']))\n",
    "print('Loyal Customers :', len(client[client.f_quartile == 1]))\n",
    "print('Big Spenders :', len(client[client.m_quartile== 1]))\n",
    "print('Almost Lost :', len(client[client.RFMScore == '134' ]))\n",
    "print('Lost Customers :', len(client[client.RFMScore== '344' ]))\n",
    "print('Lost Cheap Customers :', len(client[client.RFMScore == '444' ]))"
   ]
  },
  {
   "cell_type": "code",
   "execution_count": 35,
   "metadata": {},
   "outputs": [],
   "source": [
    "import scipy.stats as stats"
   ]
  },
  {
   "cell_type": "markdown",
   "metadata": {},
   "source": [
    "K-means gives the best result under the following conditions:\n",
    "\n",
    "1) Data’s distribution is not skewed. <br>\n",
    "2) Data is standardised."
   ]
  },
  {
   "cell_type": "code",
   "execution_count": 36,
   "metadata": {},
   "outputs": [
    {
     "name": "stdout",
     "output_type": "stream",
     "text": [
      "Recency: \n",
      "Skew: 2.494724378217962 \n",
      "Skewtest: SkewtestResult(statistic=57.01841127431044, pvalue=0.0)\n"
     ]
    }
   ],
   "source": [
    "skew = stats.skew(client['recency'])\n",
    "skewtest = stats.skewtest(client['recency'])\n",
    "print('Recency: \\nSkew:', skew, '\\nSkewtest:', skewtest)"
   ]
  },
  {
   "cell_type": "code",
   "execution_count": 37,
   "metadata": {},
   "outputs": [
    {
     "data": {
      "text/plain": [
       "<AxesSubplot:title={'center':'Distribution of recency'}, xlabel='recency', ylabel='Density'>"
      ]
     },
     "execution_count": 37,
     "metadata": {},
     "output_type": "execute_result"
    },
    {
     "data": {
      "image/png": "[encoded data removed]",
      "text/plain": [
       "<Figure size 432x288 with 1 Axes>"
      ]
     },
     "metadata": {
      "needs_background": "light"
     },
     "output_type": "display_data"
    }
   ],
   "source": [
    "plt.title('Distribution of recency')\n",
    "sns.distplot(client['recency'])"
   ]
  },
  {
   "cell_type": "code",
   "execution_count": 38,
   "metadata": {},
   "outputs": [
    {
     "name": "stdout",
     "output_type": "stream",
     "text": [
      "Frequency: \n",
      "Skew: 52.604736459175015 \n",
      "Skewtest: SkewtestResult(statistic=150.9679562846539, pvalue=0.0)\n"
     ]
    }
   ],
   "source": [
    "skew = stats.skew(client['frequency'])\n",
    "skewtest = stats.skewtest(client['frequency'])\n",
    "print('Frequency: \\nSkew:', skew, '\\nSkewtest:', skewtest)"
   ]
  },
  {
   "cell_type": "code",
   "execution_count": 39,
   "metadata": {},
   "outputs": [
    {
     "data": {
      "text/plain": [
       "<AxesSubplot:title={'center':'Distribution of frequency'}, xlabel='frequency', ylabel='Density'>"
      ]
     },
     "execution_count": 39,
     "metadata": {},
     "output_type": "execute_result"
    },
    {
     "data": {
      "image/png": "[encoded data removed]",
      "text/plain": [
       "<Figure size 432x288 with 1 Axes>"
      ]
     },
     "metadata": {
      "needs_background": "light"
     },
     "output_type": "display_data"
    }
   ],
   "source": [
    "plt.title('Distribution of frequency')\n",
    "sns.distplot(client['frequency'])"
   ]
  },
  {
   "cell_type": "code",
   "execution_count": 40,
   "metadata": {},
   "outputs": [
    {
     "name": "stdout",
     "output_type": "stream",
     "text": [
      "Monetary value: \n",
      "Skew: 54.261892973864086 \n",
      "Skewtest: SkewtestResult(statistic=151.93181195776052, pvalue=0.0)\n"
     ]
    }
   ],
   "source": [
    "skew = stats.skew(client['monetary_value'])\n",
    "skewtest = stats.skewtest(client['monetary_value'])\n",
    "print('Monetary value: \\nSkew:', skew, '\\nSkewtest:', skewtest)"
   ]
  },
  {
   "cell_type": "code",
   "execution_count": 41,
   "metadata": {},
   "outputs": [
    {
     "data": {
      "text/plain": [
       "<AxesSubplot:title={'center':'Distribution of monetary value'}, xlabel='monetary_value', ylabel='Density'>"
      ]
     },
     "execution_count": 41,
     "metadata": {},
     "output_type": "execute_result"
    },
    {
     "data": {
      "image/png": "[encoded data removed]",
      "text/plain": [
       "<Figure size 432x288 with 1 Axes>"
      ]
     },
     "metadata": {
      "needs_background": "light"
     },
     "output_type": "display_data"
    }
   ],
   "source": [
    "plt.title('Distribution of monetary value')\n",
    "sns.distplot(client['monetary_value'])"
   ]
  },
  {
   "cell_type": "markdown",
   "metadata": {},
   "source": [
    "We can see that our data is highly skewed, so we need perform log transformations"
   ]
  },
  {
   "cell_type": "code",
   "execution_count": 42,
   "metadata": {},
   "outputs": [
    {
     "data": {
      "text/html": [
       "<div>\n",
       "<style scoped>\n",
       "    .dataframe tbody tr th:only-of-type {\n",
       "        vertical-align: middle;\n",
       "    }\n",
       "\n",
       "    .dataframe tbody tr th {\n",
       "        vertical-align: top;\n",
       "    }\n",
       "\n",
       "    .dataframe thead th {\n",
       "        text-align: right;\n",
       "    }\n",
       "</style>\n",
       "<table border=\"1\" class=\"dataframe\">\n",
       "  <thead>\n",
       "    <tr style=\"text-align: right;\">\n",
       "      <th></th>\n",
       "      <th>recency</th>\n",
       "      <th>frequency</th>\n",
       "      <th>monetary_value</th>\n",
       "    </tr>\n",
       "  </thead>\n",
       "  <tbody>\n",
       "    <tr>\n",
       "      <th>0</th>\n",
       "      <td>2.197225</td>\n",
       "      <td>2.639057</td>\n",
       "      <td>13.913375</td>\n",
       "    </tr>\n",
       "    <tr>\n",
       "      <th>1</th>\n",
       "      <td>4.060443</td>\n",
       "      <td>2.708050</td>\n",
       "      <td>13.098560</td>\n",
       "    </tr>\n",
       "    <tr>\n",
       "      <th>2</th>\n",
       "      <td>2.197225</td>\n",
       "      <td>2.772589</td>\n",
       "      <td>14.958393</td>\n",
       "    </tr>\n",
       "    <tr>\n",
       "      <th>3</th>\n",
       "      <td>1.791759</td>\n",
       "      <td>3.178054</td>\n",
       "      <td>15.589365</td>\n",
       "    </tr>\n",
       "    <tr>\n",
       "      <th>4</th>\n",
       "      <td>3.713572</td>\n",
       "      <td>2.197225</td>\n",
       "      <td>11.527834</td>\n",
       "    </tr>\n",
       "    <tr>\n",
       "      <th>...</th>\n",
       "      <td>...</td>\n",
       "      <td>...</td>\n",
       "      <td>...</td>\n",
       "    </tr>\n",
       "    <tr>\n",
       "      <th>8651</th>\n",
       "      <td>1.791759</td>\n",
       "      <td>0.693147</td>\n",
       "      <td>10.019498</td>\n",
       "    </tr>\n",
       "    <tr>\n",
       "      <th>8652</th>\n",
       "      <td>6.056784</td>\n",
       "      <td>0.693147</td>\n",
       "      <td>7.717316</td>\n",
       "    </tr>\n",
       "    <tr>\n",
       "      <th>8653</th>\n",
       "      <td>2.484907</td>\n",
       "      <td>0.693147</td>\n",
       "      <td>6.514372</td>\n",
       "    </tr>\n",
       "    <tr>\n",
       "      <th>8654</th>\n",
       "      <td>5.924256</td>\n",
       "      <td>0.693147</td>\n",
       "      <td>7.082834</td>\n",
       "    </tr>\n",
       "    <tr>\n",
       "      <th>8655</th>\n",
       "      <td>5.676754</td>\n",
       "      <td>0.693147</td>\n",
       "      <td>12.322043</td>\n",
       "    </tr>\n",
       "  </tbody>\n",
       "</table>\n",
       "<p>8656 rows × 3 columns</p>\n",
       "</div>"
      ],
      "text/plain": [
       "       recency  frequency  monetary_value\n",
       "0     2.197225   2.639057       13.913375\n",
       "1     4.060443   2.708050       13.098560\n",
       "2     2.197225   2.772589       14.958393\n",
       "3     1.791759   3.178054       15.589365\n",
       "4     3.713572   2.197225       11.527834\n",
       "...        ...        ...             ...\n",
       "8651  1.791759   0.693147       10.019498\n",
       "8652  6.056784   0.693147        7.717316\n",
       "8653  2.484907   0.693147        6.514372\n",
       "8654  5.924256   0.693147        7.082834\n",
       "8655  5.676754   0.693147       12.322043\n",
       "\n",
       "[8656 rows x 3 columns]"
      ]
     },
     "execution_count": 42,
     "metadata": {},
     "output_type": "execute_result"
    }
   ],
   "source": [
    "df_log = client.loc[:, 'recency':'monetary_value']\n",
    "df_log = np.log(df_log+1)\n",
    "df_log"
   ]
  },
  {
   "cell_type": "code",
   "execution_count": 43,
   "metadata": {},
   "outputs": [
    {
     "data": {
      "image/png": "[encoded data removed]",
      "text/plain": [
       "<Figure size 648x648 with 3 Axes>"
      ]
     },
     "metadata": {
      "needs_background": "light"
     },
     "output_type": "display_data"
    }
   ],
   "source": [
    "plt.figure(figsize=(9, 9))\n",
    "plt.subplot(3, 1, 1)\n",
    "plt.title('Distribution of recency')\n",
    "sns.distplot(df_log['recency'])\n",
    "plt.subplot(3, 1, 2)\n",
    "plt.title('Distribution of frequency')\n",
    "sns.distplot(df_log['frequency'])\n",
    "plt.subplot(3, 1, 3)\n",
    "plt.title('Distribution of monetary value')\n",
    "sns.distplot(df_log['monetary_value'])\n",
    "plt.tight_layout()"
   ]
  },
  {
   "cell_type": "markdown",
   "metadata": {},
   "source": [
    "Now we will determine optimal K value"
   ]
  },
  {
   "cell_type": "code",
   "execution_count": 44,
   "metadata": {},
   "outputs": [],
   "source": [
    "s = StandardScaler().fit(df_log)\n",
    "rfm = s.transform(df_log)"
   ]
  },
  {
   "cell_type": "code",
   "execution_count": 45,
   "metadata": {},
   "outputs": [
    {
     "data": {
      "text/html": [
       "<div>\n",
       "<style scoped>\n",
       "    .dataframe tbody tr th:only-of-type {\n",
       "        vertical-align: middle;\n",
       "    }\n",
       "\n",
       "    .dataframe tbody tr th {\n",
       "        vertical-align: top;\n",
       "    }\n",
       "\n",
       "    .dataframe thead th {\n",
       "        text-align: right;\n",
       "    }\n",
       "</style>\n",
       "<table border=\"1\" class=\"dataframe\">\n",
       "  <thead>\n",
       "    <tr style=\"text-align: right;\">\n",
       "      <th></th>\n",
       "      <th>recency</th>\n",
       "      <th>frequency</th>\n",
       "      <th>monetary_value</th>\n",
       "    </tr>\n",
       "  </thead>\n",
       "  <tbody>\n",
       "    <tr>\n",
       "      <th>0</th>\n",
       "      <td>-0.712854</td>\n",
       "      <td>0.292984</td>\n",
       "      <td>1.045046</td>\n",
       "    </tr>\n",
       "    <tr>\n",
       "      <th>1</th>\n",
       "      <td>0.622866</td>\n",
       "      <td>0.375129</td>\n",
       "      <td>0.552052</td>\n",
       "    </tr>\n",
       "    <tr>\n",
       "      <th>2</th>\n",
       "      <td>-0.712854</td>\n",
       "      <td>0.451970</td>\n",
       "      <td>1.677322</td>\n",
       "    </tr>\n",
       "    <tr>\n",
       "      <th>3</th>\n",
       "      <td>-1.003527</td>\n",
       "      <td>0.934725</td>\n",
       "      <td>2.059084</td>\n",
       "    </tr>\n",
       "    <tr>\n",
       "      <th>4</th>\n",
       "      <td>0.374198</td>\n",
       "      <td>-0.233072</td>\n",
       "      <td>-0.398298</td>\n",
       "    </tr>\n",
       "  </tbody>\n",
       "</table>\n",
       "</div>"
      ],
      "text/plain": [
       "    recency  frequency  monetary_value\n",
       "0 -0.712854   0.292984        1.045046\n",
       "1  0.622866   0.375129        0.552052\n",
       "2 -0.712854   0.451970        1.677322\n",
       "3 -1.003527   0.934725        2.059084\n",
       "4  0.374198  -0.233072       -0.398298"
      ]
     },
     "execution_count": 45,
     "metadata": {},
     "output_type": "execute_result"
    }
   ],
   "source": [
    "rfm = pd.DataFrame(rfm, columns = df_log.columns)\n",
    "rfm.head()"
   ]
  },
  {
   "cell_type": "code",
   "execution_count": 46,
   "metadata": {},
   "outputs": [],
   "source": [
    "K = range(1, 20)\n",
    "sse = [] # Sum of Squared Errors\n",
    "\n",
    "for i in K:\n",
    "    k = KMeans(n_clusters = i) \n",
    "    k.fit(rfm)\n",
    "    sse.append(k.inertia_)"
   ]
  },
  {
   "cell_type": "code",
   "execution_count": 47,
   "metadata": {},
   "outputs": [
    {
     "data": {
      "text/plain": [
       "<matplotlib.lines.Line2D at 0x26ebfeffd90>"
      ]
     },
     "execution_count": 47,
     "metadata": {},
     "output_type": "execute_result"
    },
    {
     "data": {
      "image/png": "[encoded data removed]",
      "text/plain": [
       "<Figure size 936x504 with 1 Axes>"
      ]
     },
     "metadata": {
      "needs_background": "light"
     },
     "output_type": "display_data"
    }
   ],
   "source": [
    "plt.figure(figsize=(13,7))\n",
    "plt.plot(K, sse, 'go--')\n",
    "plt.xlabel('K')\n",
    "plt.ylabel('SSE')\n",
    "plt.axvline(x = 3, color = 'blue', linestyle='--')"
   ]
  },
  {
   "cell_type": "code",
   "execution_count": 48,
   "metadata": {},
   "outputs": [
    {
     "data": {
      "text/plain": [
       "KMeans(n_clusters=3)"
      ]
     },
     "execution_count": 48,
     "metadata": {},
     "output_type": "execute_result"
    }
   ],
   "source": [
    "kmeans = KMeans(n_clusters=3) \n",
    "kmeans.fit(rfm)"
   ]
  },
  {
   "cell_type": "code",
   "execution_count": 49,
   "metadata": {},
   "outputs": [
    {
     "data": {
      "text/html": [
       "<div>\n",
       "<style scoped>\n",
       "    .dataframe tbody tr th:only-of-type {\n",
       "        vertical-align: middle;\n",
       "    }\n",
       "\n",
       "    .dataframe tbody tr th {\n",
       "        vertical-align: top;\n",
       "    }\n",
       "\n",
       "    .dataframe thead th {\n",
       "        text-align: right;\n",
       "    }\n",
       "</style>\n",
       "<table border=\"1\" class=\"dataframe\">\n",
       "  <thead>\n",
       "    <tr style=\"text-align: right;\">\n",
       "      <th></th>\n",
       "      <th>recency</th>\n",
       "      <th>frequency</th>\n",
       "      <th>monetary_value</th>\n",
       "      <th>cluster</th>\n",
       "    </tr>\n",
       "    <tr>\n",
       "      <th>client_id</th>\n",
       "      <th></th>\n",
       "      <th></th>\n",
       "      <th></th>\n",
       "      <th></th>\n",
       "    </tr>\n",
       "  </thead>\n",
       "  <tbody>\n",
       "    <tr>\n",
       "      <th>96372458</th>\n",
       "      <td>8</td>\n",
       "      <td>13</td>\n",
       "      <td>1102812.03</td>\n",
       "      <td>1</td>\n",
       "    </tr>\n",
       "    <tr>\n",
       "      <th>24567813</th>\n",
       "      <td>57</td>\n",
       "      <td>14</td>\n",
       "      <td>488237.85</td>\n",
       "      <td>0</td>\n",
       "    </tr>\n",
       "    <tr>\n",
       "      <th>21717441</th>\n",
       "      <td>8</td>\n",
       "      <td>15</td>\n",
       "      <td>3135792.54</td>\n",
       "      <td>1</td>\n",
       "    </tr>\n",
       "    <tr>\n",
       "      <th>14331004</th>\n",
       "      <td>5</td>\n",
       "      <td>23</td>\n",
       "      <td>5893527.32</td>\n",
       "      <td>1</td>\n",
       "    </tr>\n",
       "    <tr>\n",
       "      <th>85302434</th>\n",
       "      <td>40</td>\n",
       "      <td>8</td>\n",
       "      <td>101501.02</td>\n",
       "      <td>0</td>\n",
       "    </tr>\n",
       "  </tbody>\n",
       "</table>\n",
       "</div>"
      ],
      "text/plain": [
       "           recency  frequency  monetary_value  cluster\n",
       "client_id                                             \n",
       "96372458         8         13      1102812.03        1\n",
       "24567813        57         14       488237.85        0\n",
       "21717441         8         15      3135792.54        1\n",
       "14331004         5         23      5893527.32        1\n",
       "85302434        40          8       101501.02        0"
      ]
     },
     "execution_count": 49,
     "metadata": {},
     "output_type": "execute_result"
    }
   ],
   "source": [
    "RFM_km = pd.concat([client.loc[:, :'monetary_value'], pd.Series(kmeans.labels_)], axis=1)\n",
    "RFM_km = RFM_km.set_index('client_id')\n",
    "RFM_km = RFM_km.rename(columns={0: \"cluster\"})\n",
    "RFM_km.head()"
   ]
  },
  {
   "cell_type": "code",
   "execution_count": 57,
   "metadata": {},
   "outputs": [
    {
     "data": {
      "text/html": [
       "<div>\n",
       "<style scoped>\n",
       "    .dataframe tbody tr th:only-of-type {\n",
       "        vertical-align: middle;\n",
       "    }\n",
       "\n",
       "    .dataframe tbody tr th {\n",
       "        vertical-align: top;\n",
       "    }\n",
       "\n",
       "    .dataframe thead tr th {\n",
       "        text-align: left;\n",
       "    }\n",
       "\n",
       "    .dataframe thead tr:last-of-type th {\n",
       "        text-align: right;\n",
       "    }\n",
       "</style>\n",
       "<table border=\"1\" class=\"dataframe\">\n",
       "  <thead>\n",
       "    <tr>\n",
       "      <th></th>\n",
       "      <th>recency</th>\n",
       "      <th>frequency</th>\n",
       "      <th colspan=\"2\" halign=\"left\">monetary_value</th>\n",
       "    </tr>\n",
       "    <tr>\n",
       "      <th></th>\n",
       "      <th>mean</th>\n",
       "      <th>mean</th>\n",
       "      <th>mean</th>\n",
       "      <th>count</th>\n",
       "    </tr>\n",
       "    <tr>\n",
       "      <th>cluster</th>\n",
       "      <th></th>\n",
       "      <th></th>\n",
       "      <th></th>\n",
       "      <th></th>\n",
       "    </tr>\n",
       "  </thead>\n",
       "  <tbody>\n",
       "    <tr>\n",
       "      <th>0</th>\n",
       "      <td>55.0</td>\n",
       "      <td>11.0</td>\n",
       "      <td>484474.0</td>\n",
       "      <td>3632</td>\n",
       "    </tr>\n",
       "    <tr>\n",
       "      <th>1</th>\n",
       "      <td>8.0</td>\n",
       "      <td>27.0</td>\n",
       "      <td>1158043.0</td>\n",
       "      <td>3073</td>\n",
       "    </tr>\n",
       "    <tr>\n",
       "      <th>2</th>\n",
       "      <td>126.0</td>\n",
       "      <td>4.0</td>\n",
       "      <td>67967.0</td>\n",
       "      <td>1951</td>\n",
       "    </tr>\n",
       "  </tbody>\n",
       "</table>\n",
       "</div>"
      ],
      "text/plain": [
       "        recency frequency monetary_value      \n",
       "           mean      mean           mean count\n",
       "cluster                                       \n",
       "0          55.0      11.0       484474.0  3632\n",
       "1           8.0      27.0      1158043.0  3073\n",
       "2         126.0       4.0        67967.0  1951"
      ]
     },
     "execution_count": 57,
     "metadata": {},
     "output_type": "execute_result"
    }
   ],
   "source": [
    "df = RFM_km.groupby(['cluster']).agg({'recency': 'mean','frequency': 'mean','monetary_value': ['mean', 'count']}).round(0)\n",
    "df"
   ]
  },
  {
   "cell_type": "code",
   "execution_count": 64,
   "metadata": {},
   "outputs": [
    {
     "data": {
      "text/html": [
       "<div>\n",
       "<style scoped>\n",
       "    .dataframe tbody tr th:only-of-type {\n",
       "        vertical-align: middle;\n",
       "    }\n",
       "\n",
       "    .dataframe tbody tr th {\n",
       "        vertical-align: top;\n",
       "    }\n",
       "\n",
       "    .dataframe thead th {\n",
       "        text-align: right;\n",
       "    }\n",
       "</style>\n",
       "<table border=\"1\" class=\"dataframe\">\n",
       "  <thead>\n",
       "    <tr style=\"text-align: right;\">\n",
       "      <th></th>\n",
       "      <th>client_id</th>\n",
       "      <th>cluster</th>\n",
       "    </tr>\n",
       "  </thead>\n",
       "  <tbody>\n",
       "    <tr>\n",
       "      <th>0</th>\n",
       "      <td>96372458</td>\n",
       "      <td>1</td>\n",
       "    </tr>\n",
       "    <tr>\n",
       "      <th>1</th>\n",
       "      <td>24567813</td>\n",
       "      <td>0</td>\n",
       "    </tr>\n",
       "    <tr>\n",
       "      <th>2</th>\n",
       "      <td>21717441</td>\n",
       "      <td>1</td>\n",
       "    </tr>\n",
       "    <tr>\n",
       "      <th>3</th>\n",
       "      <td>14331004</td>\n",
       "      <td>1</td>\n",
       "    </tr>\n",
       "    <tr>\n",
       "      <th>4</th>\n",
       "      <td>85302434</td>\n",
       "      <td>0</td>\n",
       "    </tr>\n",
       "  </tbody>\n",
       "</table>\n",
       "</div>"
      ],
      "text/plain": [
       "   client_id  cluster\n",
       "0   96372458        1\n",
       "1   24567813        0\n",
       "2   21717441        1\n",
       "3   14331004        1\n",
       "4   85302434        0"
      ]
     },
     "execution_count": 64,
     "metadata": {},
     "output_type": "execute_result"
    }
   ],
   "source": [
    "smth = RFM_km.cluster\n",
    "smth = smth.reset_index()\n",
    "smth.head()"
   ]
  },
  {
   "cell_type": "markdown",
   "metadata": {},
   "source": [
    "What does each cluster represent?\n",
    "1) The cluster number '1' belongs to the “Best Customers” segment which we saw earlier as they purchase recently, frequent buyers, and spent the most.\n",
    "\n",
    "2) Customers in cluster '0' are somewhere in between first and last class.\n",
    "\n",
    "3) Cluster '2' is more related to the “Lost Cheap Customers” segment as they haven’t purchased for a long time, they have small frequency number and spent very little."
   ]
  },
  {
   "cell_type": "markdown",
   "metadata": {},
   "source": [
    "# 6. Conclusion"
   ]
  },
  {
   "cell_type": "markdown",
   "metadata": {},
   "source": [
    "We worked with datasets of transactions, codes, types in order to segment the clients into several clusters. The first step was to make data preparation which consists of treatment of null and duplicate values and to do some descriptive statistics to gain a basic understanding of our data. Next, we did explanatory data analysis through visualizations of the features and created new features to use for unsupervised learning further. In the feature engineering part, the RFM principle was used. The unsupervised machine learning was k-means. K-means algorithm was implemented based on the RMF principle in order to divide the clients into general categories based on their recency, frequency, and monetary value.  As a result, we were able to segment the clients into different clusters."
   ]
  }
 ],
 "metadata": {
  "kernelspec": {
   "display_name": "Python 3",
   "language": "python",
   "name": "python3"
  },
  "language_info": {
   "codemirror_mode": {
    "name": "ipython",
    "version": 3
   },
   "file_extension": ".py",
   "mimetype": "text/x-python",
   "name": "python",
   "nbconvert_exporter": "python",
   "pygments_lexer": "ipython3",
   "version": "3.8.5"
  }
 },
 "nbformat": 4,
 "nbformat_minor": 4
}
